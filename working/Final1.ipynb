{
 "cells": [
  {
   "cell_type": "code",
   "execution_count": 2,
   "metadata": {},
   "outputs": [],
   "source": [
    "# import packages\n",
    "from scipy.stats import chi2_contingency\n",
    "from scipy.stats import chi2\n",
    "from sklearn.model_selection import train_test_split, GridSearchCV, cross_val_score\n",
    "import pandas as pd\n",
    "from datetime import datetime\n",
    "import numpy as np\n",
    "import matplotlib.pyplot as plt\n",
    "import seaborn as sns\n",
    "import math\n",
    "from sklearn.preprocessing import StandardScaler\n",
    "from sklearn.model_selection import train_test_split\n",
    "from sklearn import linear_model\n",
    "from sklearn import metrics\n",
    "import scipy.stats as stats\n",
    "from scipy import stats\n",
    "from sklearn.linear_model import LinearRegression, LogisticRegression\n",
    "from sklearn.metrics import accuracy_score, confusion_matrix, classification_report\n",
    "from sklearn.tree import DecisionTreeClassifier\n",
    "from sklearn.ensemble import BaggingClassifier, RandomForestClassifier\n",
    "%matplotlib inline"
   ]
  },
  {
   "cell_type": "markdown",
   "metadata": {},
   "source": [
    "# Data Cleaning"
   ]
  },
  {
   "cell_type": "code",
   "execution_count": 3,
   "metadata": {},
   "outputs": [
    {
     "data": {
      "text/html": [
       "<div>\n",
       "<style scoped>\n",
       "    .dataframe tbody tr th:only-of-type {\n",
       "        vertical-align: middle;\n",
       "    }\n",
       "\n",
       "    .dataframe tbody tr th {\n",
       "        vertical-align: top;\n",
       "    }\n",
       "\n",
       "    .dataframe thead th {\n",
       "        text-align: right;\n",
       "    }\n",
       "</style>\n",
       "<table border=\"1\" class=\"dataframe\">\n",
       "  <thead>\n",
       "    <tr style=\"text-align: right;\">\n",
       "      <th></th>\n",
       "      <th>class</th>\n",
       "      <th>cap-shape</th>\n",
       "      <th>cap-surface</th>\n",
       "      <th>cap-color</th>\n",
       "      <th>bruises</th>\n",
       "      <th>odor</th>\n",
       "      <th>gill-attachment</th>\n",
       "      <th>gill-spacing</th>\n",
       "      <th>gill-size</th>\n",
       "      <th>gill-color</th>\n",
       "      <th>...</th>\n",
       "      <th>stalk-surface-below-ring</th>\n",
       "      <th>stalk-color-above-ring</th>\n",
       "      <th>stalk-color-below-ring</th>\n",
       "      <th>veil-type</th>\n",
       "      <th>veil-color</th>\n",
       "      <th>ring-number</th>\n",
       "      <th>ring-type</th>\n",
       "      <th>spore-print-color</th>\n",
       "      <th>population</th>\n",
       "      <th>habitat</th>\n",
       "    </tr>\n",
       "  </thead>\n",
       "  <tbody>\n",
       "    <tr>\n",
       "      <th>0</th>\n",
       "      <td>p</td>\n",
       "      <td>x</td>\n",
       "      <td>s</td>\n",
       "      <td>n</td>\n",
       "      <td>t</td>\n",
       "      <td>p</td>\n",
       "      <td>f</td>\n",
       "      <td>c</td>\n",
       "      <td>n</td>\n",
       "      <td>k</td>\n",
       "      <td>...</td>\n",
       "      <td>s</td>\n",
       "      <td>w</td>\n",
       "      <td>w</td>\n",
       "      <td>p</td>\n",
       "      <td>w</td>\n",
       "      <td>o</td>\n",
       "      <td>p</td>\n",
       "      <td>k</td>\n",
       "      <td>s</td>\n",
       "      <td>u</td>\n",
       "    </tr>\n",
       "    <tr>\n",
       "      <th>1</th>\n",
       "      <td>e</td>\n",
       "      <td>x</td>\n",
       "      <td>s</td>\n",
       "      <td>y</td>\n",
       "      <td>t</td>\n",
       "      <td>a</td>\n",
       "      <td>f</td>\n",
       "      <td>c</td>\n",
       "      <td>b</td>\n",
       "      <td>k</td>\n",
       "      <td>...</td>\n",
       "      <td>s</td>\n",
       "      <td>w</td>\n",
       "      <td>w</td>\n",
       "      <td>p</td>\n",
       "      <td>w</td>\n",
       "      <td>o</td>\n",
       "      <td>p</td>\n",
       "      <td>n</td>\n",
       "      <td>n</td>\n",
       "      <td>g</td>\n",
       "    </tr>\n",
       "    <tr>\n",
       "      <th>2</th>\n",
       "      <td>e</td>\n",
       "      <td>b</td>\n",
       "      <td>s</td>\n",
       "      <td>w</td>\n",
       "      <td>t</td>\n",
       "      <td>l</td>\n",
       "      <td>f</td>\n",
       "      <td>c</td>\n",
       "      <td>b</td>\n",
       "      <td>n</td>\n",
       "      <td>...</td>\n",
       "      <td>s</td>\n",
       "      <td>w</td>\n",
       "      <td>w</td>\n",
       "      <td>p</td>\n",
       "      <td>w</td>\n",
       "      <td>o</td>\n",
       "      <td>p</td>\n",
       "      <td>n</td>\n",
       "      <td>n</td>\n",
       "      <td>m</td>\n",
       "    </tr>\n",
       "  </tbody>\n",
       "</table>\n",
       "<p>3 rows × 23 columns</p>\n",
       "</div>"
      ],
      "text/plain": [
       "  class cap-shape cap-surface cap-color bruises odor gill-attachment  \\\n",
       "0     p         x           s         n       t    p               f   \n",
       "1     e         x           s         y       t    a               f   \n",
       "2     e         b           s         w       t    l               f   \n",
       "\n",
       "  gill-spacing gill-size gill-color  ... stalk-surface-below-ring  \\\n",
       "0            c         n          k  ...                        s   \n",
       "1            c         b          k  ...                        s   \n",
       "2            c         b          n  ...                        s   \n",
       "\n",
       "  stalk-color-above-ring stalk-color-below-ring veil-type veil-color  \\\n",
       "0                      w                      w         p          w   \n",
       "1                      w                      w         p          w   \n",
       "2                      w                      w         p          w   \n",
       "\n",
       "  ring-number ring-type spore-print-color population habitat  \n",
       "0           o         p                 k          s       u  \n",
       "1           o         p                 n          n       g  \n",
       "2           o         p                 n          n       m  \n",
       "\n",
       "[3 rows x 23 columns]"
      ]
     },
     "execution_count": 3,
     "metadata": {},
     "output_type": "execute_result"
    }
   ],
   "source": [
    "df = pd.read_csv('data/mushrooms.csv')\n",
    "df.head(3)\n"
   ]
  },
  {
   "cell_type": "code",
   "execution_count": 4,
   "metadata": {},
   "outputs": [
    {
     "data": {
      "text/html": [
       "<div>\n",
       "<style scoped>\n",
       "    .dataframe tbody tr th:only-of-type {\n",
       "        vertical-align: middle;\n",
       "    }\n",
       "\n",
       "    .dataframe tbody tr th {\n",
       "        vertical-align: top;\n",
       "    }\n",
       "\n",
       "    .dataframe thead th {\n",
       "        text-align: right;\n",
       "    }\n",
       "</style>\n",
       "<table border=\"1\" class=\"dataframe\">\n",
       "  <thead>\n",
       "    <tr style=\"text-align: right;\">\n",
       "      <th></th>\n",
       "      <th>class</th>\n",
       "      <th>cap-shape</th>\n",
       "      <th>cap-surface</th>\n",
       "      <th>cap-color</th>\n",
       "      <th>bruises</th>\n",
       "      <th>odor</th>\n",
       "      <th>gill-attachment</th>\n",
       "      <th>gill-spacing</th>\n",
       "      <th>gill-size</th>\n",
       "      <th>gill-color</th>\n",
       "      <th>...</th>\n",
       "      <th>stalk-surface-below-ring</th>\n",
       "      <th>stalk-color-above-ring</th>\n",
       "      <th>stalk-color-below-ring</th>\n",
       "      <th>veil-type</th>\n",
       "      <th>veil-color</th>\n",
       "      <th>ring-number</th>\n",
       "      <th>ring-type</th>\n",
       "      <th>spore-print-color</th>\n",
       "      <th>population</th>\n",
       "      <th>habitat</th>\n",
       "    </tr>\n",
       "  </thead>\n",
       "  <tbody>\n",
       "    <tr>\n",
       "      <th>0</th>\n",
       "      <td>poisonous</td>\n",
       "      <td>convex</td>\n",
       "      <td>smooth</td>\n",
       "      <td>brown</td>\n",
       "      <td>bruises</td>\n",
       "      <td>pungent</td>\n",
       "      <td>free</td>\n",
       "      <td>close</td>\n",
       "      <td>narrow</td>\n",
       "      <td>black</td>\n",
       "      <td>...</td>\n",
       "      <td>smooth</td>\n",
       "      <td>white</td>\n",
       "      <td>white</td>\n",
       "      <td>partial</td>\n",
       "      <td>white</td>\n",
       "      <td>one</td>\n",
       "      <td>pendant</td>\n",
       "      <td>black</td>\n",
       "      <td>scattered</td>\n",
       "      <td>urban</td>\n",
       "    </tr>\n",
       "    <tr>\n",
       "      <th>1</th>\n",
       "      <td>edible</td>\n",
       "      <td>convex</td>\n",
       "      <td>smooth</td>\n",
       "      <td>yellow</td>\n",
       "      <td>bruises</td>\n",
       "      <td>almond</td>\n",
       "      <td>free</td>\n",
       "      <td>close</td>\n",
       "      <td>broad</td>\n",
       "      <td>black</td>\n",
       "      <td>...</td>\n",
       "      <td>smooth</td>\n",
       "      <td>white</td>\n",
       "      <td>white</td>\n",
       "      <td>partial</td>\n",
       "      <td>white</td>\n",
       "      <td>one</td>\n",
       "      <td>pendant</td>\n",
       "      <td>brown</td>\n",
       "      <td>numerous</td>\n",
       "      <td>grasses</td>\n",
       "    </tr>\n",
       "    <tr>\n",
       "      <th>2</th>\n",
       "      <td>edible</td>\n",
       "      <td>bell</td>\n",
       "      <td>smooth</td>\n",
       "      <td>white</td>\n",
       "      <td>bruises</td>\n",
       "      <td>anise</td>\n",
       "      <td>free</td>\n",
       "      <td>close</td>\n",
       "      <td>broad</td>\n",
       "      <td>brown</td>\n",
       "      <td>...</td>\n",
       "      <td>smooth</td>\n",
       "      <td>white</td>\n",
       "      <td>white</td>\n",
       "      <td>partial</td>\n",
       "      <td>white</td>\n",
       "      <td>one</td>\n",
       "      <td>pendant</td>\n",
       "      <td>brown</td>\n",
       "      <td>numerous</td>\n",
       "      <td>meadows</td>\n",
       "    </tr>\n",
       "  </tbody>\n",
       "</table>\n",
       "<p>3 rows × 23 columns</p>\n",
       "</div>"
      ],
      "text/plain": [
       "       class cap-shape cap-surface cap-color  bruises     odor  \\\n",
       "0  poisonous    convex      smooth     brown  bruises  pungent   \n",
       "1     edible    convex      smooth    yellow  bruises   almond   \n",
       "2     edible      bell      smooth     white  bruises    anise   \n",
       "\n",
       "  gill-attachment gill-spacing gill-size gill-color  ...  \\\n",
       "0            free        close    narrow      black  ...   \n",
       "1            free        close     broad      black  ...   \n",
       "2            free        close     broad      brown  ...   \n",
       "\n",
       "  stalk-surface-below-ring stalk-color-above-ring stalk-color-below-ring  \\\n",
       "0                   smooth                  white                  white   \n",
       "1                   smooth                  white                  white   \n",
       "2                   smooth                  white                  white   \n",
       "\n",
       "  veil-type veil-color ring-number ring-type spore-print-color population  \\\n",
       "0   partial      white         one   pendant             black  scattered   \n",
       "1   partial      white         one   pendant             brown   numerous   \n",
       "2   partial      white         one   pendant             brown   numerous   \n",
       "\n",
       "   habitat  \n",
       "0    urban  \n",
       "1  grasses  \n",
       "2  meadows  \n",
       "\n",
       "[3 rows x 23 columns]"
      ]
     },
     "execution_count": 4,
     "metadata": {},
     "output_type": "execute_result"
    }
   ],
   "source": [
    "df['class'] = df['class'].replace({'p':'poisonous', 'e':'edible'})\n",
    "df['cap-shape'] = df['cap-shape'].replace({'b':'bell', 'c':'conical', 'x':'convex', 'f':'flat', 'k':'knobbed', 's':'sunken'})\n",
    "df['cap-surface'] = df['cap-surface'].replace({'f':'fibrous', 'g':'grooves', 'y':'scaly', 's':'smooth'})\n",
    "df['cap-color'] = df['cap-color'].replace({'n':'brown', 'b':'buff', 'c':'cinnamon', 'g':'gray', 'r':'green', 'p':'pink', 'u':'purple', \n",
    "                         'e':'red', 'w':'white', 'y':'yellow'})\n",
    "df['bruises'] = df['bruises'].replace({'t':'bruises', 'f':'no'})\n",
    "df['odor'] = df['odor'].replace({'a':'almond', 'l':'anise', 'c':'creosote', 'y':'fishy', 'f':'foul', 'm':'musty', 'n':'none', 'p':'pungent',\n",
    "                    's':'spicy'})\n",
    "df['gill-attachment'] = df['gill-attachment'].replace({'a':'attached', 'd':'descending', 'f':'free', 'n':'notched'})\n",
    "df['gill-spacing'] = df['gill-spacing'].replace({'c':'close', 'w':'crowded', 'd':'distant'})\n",
    "df['gill-size'] = df['gill-size'].replace({'b':'broad', 'n':'narrow'})\n",
    "df['gill-color'] = df['gill-color'].replace({'k':'black', 'n':'brown', 'b':'buff', 'h':'chocolate', 'g':'gray', 'r':'green', 'o':'orange', \n",
    "                          'p':'pink', 'u':'purple', 'e':'red', 'w':'white', 'y':'yellow'})\n",
    "df['stalk-shape'] = df['stalk-shape'].replace({'e':'enlarging', 't':'tapering'})\n",
    "df['stalk-root'] = df['stalk-root'].replace({'b':'bulbous', 'c':'club', 'u':'cup', 'e':'equal', 'z':'rhizomorphs', 'r':'rooted', '?':'missing'})\n",
    "df['stalk-surface-above-ring'] = df['stalk-surface-above-ring'].replace({'f':'fibrous', 'y':'scaly', 'k':'silky', 's':'smooth'})\n",
    "df['stalk-surface-below-ring'] = df['stalk-surface-below-ring'].replace({'f':'fibrous', 'y':'scaly', 'k':'silky', 's':'smooth'})\n",
    "df['stalk-color-above-ring'] = df['stalk-color-above-ring'].replace({'n':'brown', 'b':'buff', 'c':'cinnamon', 'g':'gray', 'o':'orange', 'p':'pink', 'e':'red', \n",
    "                                      'w':'white', 'y':'yellow'})\n",
    "df['stalk-color-below-ring'] = df['stalk-color-below-ring'].replace({'n':'brown', 'b':'buff', 'c':'cinnamon', 'g':'gray', 'o':'orange', 'p':'pink', 'e':'red', \n",
    "                                      'w':'white', 'y':'yellow'})\n",
    "df['veil-type'] = df['veil-type'].replace({'p':'partial', 'u':'universal'})\n",
    "df['veil-color'] = df['veil-color'].replace({'n':'brown', 'o':'orange', 'w':'white', 'y':'yellow'})\n",
    "df['ring-number'] = df['ring-number'].replace({'n':'none', 'o':'one', 't':'two'})\n",
    "df['ring-type'] = df['ring-type'].replace({'c':'cobwebby', 'e':'evanescent', 'f':'flaring', 'l':'large', 'n':'none', 'p':'pendant', 's':'sheathing', \n",
    "                         'z':'zone'})\n",
    "df['spore-print-color'] = df['spore-print-color'].replace({'k':'black', 'n':'brown', 'b':'buff', 'h':'chocolate', 'r':'green', 'o':'orange', 'u':'purple',\n",
    "                                 'w':'white', 'y':'yellow'})\n",
    "df['population'] = df['population'].replace({'a':'abundant', 'c':'clustered', 'n':'numerous', 's':'scattered', 'v':'several', 'y':'solitary'})\n",
    "df['habitat'] = df['habitat'].replace({'g':'grasses', 'l':'leaves', 'm':'meadows', 'p':'paths', 'u':'urban', 'w':'waste', 'd':'woods'})\n",
    "df.head(3)"
   ]
  },
  {
   "cell_type": "code",
   "execution_count": null,
   "metadata": {},
   "outputs": [],
   "source": [
    "# df.to_csv('decoded_mushrooms.csv')"
   ]
  },
  {
   "cell_type": "code",
   "execution_count": 6,
   "metadata": {},
   "outputs": [],
   "source": [
    "df = pd.read_csv('data/decoded_mushrooms.csv', index_col = 0)"
   ]
  },
  {
   "cell_type": "code",
   "execution_count": 7,
   "metadata": {},
   "outputs": [
    {
     "data": {
      "text/plain": [
       "Index(['class', 'cap-shape', 'cap-surface', 'cap-color', 'bruises', 'odor',\n",
       "       'gill-attachment', 'gill-spacing', 'gill-size', 'gill-color',\n",
       "       'stalk-shape', 'stalk-root', 'stalk-surface-above-ring',\n",
       "       'stalk-surface-below-ring', 'stalk-color-above-ring',\n",
       "       'stalk-color-below-ring', 'veil-type', 'veil-color', 'ring-number',\n",
       "       'ring-type', 'spore-print-color', 'population', 'habitat'],\n",
       "      dtype='object')"
      ]
     },
     "execution_count": 7,
     "metadata": {},
     "output_type": "execute_result"
    }
   ],
   "source": [
    "df.columns"
   ]
  },
  {
   "cell_type": "markdown",
   "metadata": {},
   "source": [
    "## Bar Plots "
   ]
  },
  {
   "cell_type": "code",
   "execution_count": 9,
   "metadata": {},
   "outputs": [
    {
     "data": {
      "image/png": "[encoded data removed]",
      "text/plain": [
       "<Figure size 1080x3600 with 24 Axes>"
      ]
     },
     "metadata": {
      "needs_background": "light"
     },
     "output_type": "display_data"
    }
   ],
   "source": [
    "fig, axes = plt.subplots (ncols = 2, nrows = 12, figsize = (15, 50))\n",
    "\n",
    "for i, column in enumerate(df):\n",
    "    ax = axes[i//2][i%2]\n",
    "    fig = sns.countplot(x=column, hue=\"class\", data=df, palette = 'husl', ax=ax)\n",
    "\n",
    "# plt.savefig('initbargraphs.png') "
   ]
  },
  {
   "cell_type": "markdown",
   "metadata": {},
   "source": [
    "## Bar Graph Explanations"
   ]
  },
  {
   "cell_type": "markdown",
   "metadata": {},
   "source": [
    "class: The first bar graph that displays the counts for each class, help us clear any possibility of inaccuracy due to a class imbalance. The data is almost evenly split around the categorical variables edible and poisonous.\n",
    "\n",
    "\n",
    "cap shape: Mushroom cap shapes that are either convex or flat don't seem to be very good indicators of edibility. That being said however, we can also see that bell shaped caps are more likely to be edible while knob shaped caps are more likely to be poisonous. Though there isn't much to get form sunken or conical shaped mushroom caps but its very unlikely that they would be poisonous or edible, respectively.\n",
    "\n",
    "cap surface: From this bar graph, we can see that cap surfaces for poisonous and edible mushrooms can really vary. But fibrous cap surfaces are more likely to be edible while a mushroom cap surface with grooves, from what we know, will most likely be poisonous.\n",
    "\n",
    "cap color: Cap color, according to the distribution of the bar graph, can vary between poisonous and edible mushrooms. However, green and purple mushroom caps are more so characteristics of edible mushrooms.\n",
    "\n",
    "bruises: Seems that edible mushrooms tend to have more bruises as opposed to poisonous mushrooms which are typically bruise-free.\n",
    "\n",
    "odor: Interestingly, things that we would typically consider \"good\" smells are for mainly for edible mushrooms. All other less pleasant smelling mushrooms are indications of a poisonous species.\n",
    "\n",
    "gill attachment: Gill-attachment doesn't really give us mush information. The proportions of edible to poisonous mushrooms for free and attached gills appear to be very similar according to the graph.\n",
    "\n",
    "gill spacing: Gill-spacing seem to appear more crowded for edible mushrooms and close for poisonous ones. However, this bar graph isn't the best provider of predictive information.\n",
    "\n",
    "gill size: A narrow gill size looks more closely associated with poisonous mushrooms while broad gills are more associated with the other.\n",
    "\n",
    "gill color: For gill color, the colors that stand out the most for being an indicator of being poisonous or edible are brown, purple, red, and orange, or buff and green, respectfully.\n",
    "\n",
    "stalk shape: There doesn't seem to be mush difference in the distribution of mushrooms by edibility for stalk shape. This may not be helpful in a predictive model.\n",
    "\n",
    "stalk-root: If the root is rooted it's edible. If the root is equal, club, missing, or bulbous it's more likely to be poisonous.   \n",
    "\n",
    "Stalk-surface-above-ring: Similarly to the stalk surface below the ring, smooth, fibrous, and scaly are more likely to be edible, but they are not good indicators when determining if a mushrooms will be poisonous or edible. The silky surface is more likely to be poisonous.\n",
    "\n",
    "\n",
    "Stalk-surface-below-ring: Stalk surface below the ring are not good for differentiating between poisonous and edible mushrooms. Smooth, fibrous, and scaly surfaces below the ring are more likely to be edible. Meanwhile a silky surface is more likely to be poisonous.   \n",
    "\n",
    "Stalk-color-above-ring: Similar to stalk colors below the ring, pink and white stalk colors above the ring are not good indicators of whether a mushroom is poisonous or edible. Gray,red, or orange colors above the ring are edible. Buff, yellow, and cinnamon are poisonous, and brown is almost all poisonous.  \n",
    "\n",
    "Stalk-color-below-ring: White and pink stalk colors are poor indicators when determining whether a mushroom is poisonous or edible. The white color is more likely to be edible. The pink color is more likely to be poisonous. Gray or Orange as the stalk color below the ring means the mushroom is edible. Meanwhile a buff or red stalk color below the ring shows the mushroom is poisonous. The brown color is more likely to be poisonous. a Cinnamon color below the ring means the mushroom is edible.    \n",
    "\n",
    "Veil-type: Veil-type is not a good indicator of whether a mushroom is poisonous or not. \n",
    "\n",
    "Veil-color: Mushrooms with brown and orange veils are edible. Yellow viels are a danger sign. Mushrooms with a white veil are not good indicators of whether the mushroom is poisonous or edible.\n",
    "\n",
    "Ring number: There's a lot of uncertainty with one ring. One ring could be edible or poisonous. Two rings mushrooms are likely to be edible, but we can't be positive. Mushrooms without rings are poisonous. \n",
    "\n",
    "Ring-type: Large rings and no rings are a sign the mushroom is poisonous. Flaring mushrooms are edible. Pendant mushrooms are more likely to be edible, but beware. Evanescent mushrooms are more likely to be poisonous, but many are edible.  \n",
    "\n",
    "Spore-print-color: Buff, yellow, orange, and purple mushrooms are edible. Green mushrooms are poisonous. Black and brown mushrooms are mostly edible, but not entirely. Chocolate and white colored mushrooms are mostly poisonous.\n",
    "\n",
    "Population: The population graph demonstrates edible mushrooms can be found in numerous areas and abundantly. There are several areas were mushrooms are poisonous. Both poisonous and edible mushrooms can be found scattered, in solitary, and clustered.\n",
    "\n",
    "Habitat: From the habitat graph one can see that waste has edible mushrooms. Wood and grass areas are more likely to have edible mushrooms, but a lot of mushrooms found in the woody and grassy areas are poisonous. Paths are likely to have poisonous mushrooms.  "
   ]
  },
  {
   "cell_type": "markdown",
   "metadata": {},
   "source": [
    "# Statistical Testing"
   ]
  },
  {
   "cell_type": "markdown",
   "metadata": {},
   "source": [
    "The chi squared test is used to determine whether there is an association between the two categorical variables. In this case, we are looking at edible and poisonous mushrooms. Are there any columns that are dependent of this class? If so, will they aid in the predictive power of our model?"
   ]
  },
  {
   "cell_type": "markdown",
   "metadata": {},
   "source": [
    "## Rings \n",
    "Is there a relationship between number of rings and mushroom edibility? We can use a Chi-Square test to determine this. "
   ]
  },
  {
   "cell_type": "code",
   "execution_count": 10,
   "metadata": {
    "scrolled": true
   },
   "outputs": [
    {
     "name": "stdout",
     "output_type": "stream",
     "text": [
      "[[3808, 3680], [72, 528], [36, 0]]\n",
      "4.235757641722938e-82\n",
      "dof=2\n",
      "[[3609.42983752 3878.57016248]\n",
      " [ 289.21713442  310.78286558]\n",
      " [  17.35302806   18.64697194]]\n"
     ]
    }
   ],
   "source": [
    "# chi-squared test for ring-number\n",
    "# create an observed contingency table and print\n",
    "table = [[len(df.loc[df['ring-number'] == 'one'].loc[df['class'] == 'poisonous']), len(df.loc[df['ring-number'] == 'one'].loc[df['class'] == 'edible'])],\n",
    "         [len(df.loc[df['ring-number'] == 'two'].loc[df['class'] == 'poisonous']), len(df.loc[df['ring-number'] == 'two'].loc[df['class'] == 'edible'])],\n",
    "         [len(df.loc[df['ring-number'] == 'none'].loc[df['class'] == 'poisonous']), len(df.loc[df['ring-number'] == 'none'].loc[df['class'] == 'edible'])]]\n",
    "print(table)\n",
    "\n",
    "\n",
    "stat, p, dof, expected = chi2_contingency(table)\n",
    "\n",
    "# make a decision based on p-value\n",
    "print(p)\n",
    "\n",
    "# print degrees of freedom\n",
    "print('dof=%d' % dof)\n",
    "\n",
    "# print expected contingency table\n",
    "print(expected)"
   ]
  },
  {
   "cell_type": "code",
   "execution_count": 11,
   "metadata": {},
   "outputs": [
    {
     "name": "stdout",
     "output_type": "stream",
     "text": [
      "probability=0.999, critical=13.816, stat=374.737\n",
      "Dependent (reject H0)\n"
     ]
    }
   ],
   "source": [
    "# interpret test-statistic\n",
    "prob = 0.999\n",
    "critical = chi2.ppf(prob, dof)\n",
    "\n",
    "print('probability=%.3f, critical=%.3f, stat=%.3f' % (prob, critical, stat))\n",
    "if abs(stat) >= critical:\n",
    "\tprint('Dependent (reject H0)')\n",
    "else:\n",
    "\tprint('Independent (fail to reject H0)')"
   ]
  },
  {
   "cell_type": "markdown",
   "metadata": {},
   "source": [
    "With a probability of 99.9% and a critical value of 13.8, given our test statistic is 374.737, we land far beyond our testing region. Therefore, we reject the null hypothesis that there is independance between number of rings and edibility."
   ]
  },
  {
   "cell_type": "markdown",
   "metadata": {},
   "source": [
    "## Spore Print Color "
   ]
  },
  {
   "cell_type": "markdown",
   "metadata": {},
   "source": [
    "The Chi-Squared test here is used to check the significance of spore print color to mushroom toxicity. In other words, is spore print color independent of mushroom toxicity?"
   ]
  },
  {
   "cell_type": "code",
   "execution_count": 12,
   "metadata": {},
   "outputs": [
    {
     "name": "stdout",
     "output_type": "stream",
     "text": [
      "[[224, 1648], [224, 1744], [0, 48], [1584, 48], [1812, 576], [72, 0], [0, 48], [0, 48], [0, 48]]\n"
     ]
    }
   ],
   "source": [
    "# chi square test for spore-print-color\n",
    "table = [[len(df.loc[df['spore-print-color'] == 'black'].loc[df['class'] == 'poisonous']), len(df.loc[df['spore-print-color'] == 'black'].loc[df['class'] == 'edible'])],\n",
    "        [len(df.loc[df['spore-print-color'] == 'brown'].loc[df['class'] == 'poisonous']), len(df.loc[df['spore-print-color'] == 'brown'].loc[df['class'] == 'edible'])],\n",
    "        [len(df.loc[df['spore-print-color'] == 'purple'].loc[df['class'] == 'poisonous']), len(df.loc[df['spore-print-color'] == 'purple'].loc[df['class'] == 'edible'])],\n",
    "        [len(df.loc[df['spore-print-color'] == 'chocolate'].loc[df['class'] == 'poisonous']), len(df.loc[df['spore-print-color'] == 'chocolate'].loc[df['class'] == 'edible'])],\n",
    "        [len(df.loc[df['spore-print-color'] == 'white'].loc[df['class'] == 'poisonous']), len(df.loc[df['spore-print-color'] == 'white'].loc[df['class'] == 'edible'])],\n",
    "        [len(df.loc[df['spore-print-color'] == 'green'].loc[df['class'] == 'poisonous']), len(df.loc[df['spore-print-color'] == 'green'].loc[df['class'] == 'edible'])],\n",
    "        [len(df.loc[df['spore-print-color'] == 'orange'].loc[df['class'] == 'poisonous']), len(df.loc[df['spore-print-color'] == 'orange'].loc[df['class'] == 'edible'])],\n",
    "        [len(df.loc[df['spore-print-color'] == 'yellow'].loc[df['class'] == 'poisonous']), len(df.loc[df['spore-print-color'] == 'yellow'].loc[df['class'] == 'edible'])],\n",
    "        [len(df.loc[df['spore-print-color'] == 'buff'].loc[df['class'] == 'poisonous']), len(df.loc[df['spore-print-color'] == 'buff'].loc[df['class'] == 'edible'])]]\n",
    "print(table)"
   ]
  },
  {
   "cell_type": "code",
   "execution_count": 13,
   "metadata": {},
   "outputs": [
    {
     "name": "stdout",
     "output_type": "stream",
     "text": [
      "4.235757641722938e-82\n",
      "374.7368308267116\n"
     ]
    },
    {
     "data": {
      "text/plain": [
       "[[224, 224, 0, 1584, 1812, 72, 0, 0, 0],\n",
       " [1648, 1744, 48, 48, 576, 0, 48, 48, 48]]"
      ]
     },
     "execution_count": 13,
     "metadata": {},
     "output_type": "execute_result"
    }
   ],
   "source": [
    "# convert 9-2 coningency table to 2-9\n",
    "lst1, lst2 = [], []\n",
    "for row in table:\n",
    "    lst1.append(row[0])\n",
    "    lst2.append(row[1])\n",
    "lst = [lst1,lst2]\n",
    "\n",
    "# observed contingency table\n",
    "lst"
   ]
  },
  {
   "cell_type": "code",
   "execution_count": 16,
   "metadata": {
    "scrolled": true
   },
   "outputs": [
    {
     "name": "stdout",
     "output_type": "stream",
     "text": [
      "dof=8\n",
      "0.0\n",
      "4602.033170084604\n",
      "[[ 902.35745938  948.63220089   23.13737075  786.67060561 1151.08419498\n",
      "    34.70605613   23.13737075   23.13737075   23.13737075]\n",
      " [ 969.64254062 1019.36779911   24.86262925  845.32939439 1236.91580502\n",
      "    37.29394387   24.86262925   24.86262925   24.86262925]]\n"
     ]
    }
   ],
   "source": [
    "stat, p, dof, expected = chi2_contingency(lst)\n",
    "print('dof=%d' % dof)\n",
    "print(expected)"
   ]
  },
  {
   "cell_type": "markdown",
   "metadata": {},
   "source": [
    "Degrees of freedom is calculated by total number of attribute comparisons minus 1. (dof = n-1)"
   ]
  },
  {
   "cell_type": "code",
   "execution_count": null,
   "metadata": {},
   "outputs": [],
   "source": [
    "print(p)\n",
    "print(stat)"
   ]
  },
  {
   "cell_type": "code",
   "execution_count": 17,
   "metadata": {},
   "outputs": [
    {
     "name": "stdout",
     "output_type": "stream",
     "text": [
      "probability=0.990, critical=20.090, stat=4602.033\n",
      "Dependent (reject H0)\n"
     ]
    }
   ],
   "source": [
    "# interpret test-statistic\n",
    "prob = 0.99\n",
    "critical = chi2.ppf(prob, dof)\n",
    "\n",
    "print('probability=%.3f, critical=%.3f, stat=%.3f' % (prob, critical, stat))\n",
    "if abs(stat) >= critical:\n",
    "\tprint('Dependent (reject H0)')\n",
    "else:\n",
    "\tprint('Independent (fail to reject H0)')"
   ]
  },
  {
   "cell_type": "markdown",
   "metadata": {},
   "source": [
    "The 99% confidence interval has a critical value of 20.09 The stat 4602.033 largely exceeds the critical value and the p-value is 0. It can be assumed spore-color-print is statistically significant."
   ]
  },
  {
   "cell_type": "markdown",
   "metadata": {},
   "source": [
    "## Odor "
   ]
  },
  {
   "cell_type": "code",
   "execution_count": 21,
   "metadata": {},
   "outputs": [
    {
     "name": "stdout",
     "output_type": "stream",
     "text": [
      "[[256, 0], [0, 400], [0, 400], [120, 3408], [2160, 0], [192, 0], [576, 0], [576, 0], [36, 0]]\n"
     ]
    }
   ],
   "source": [
    "table = [[len(df.loc[df['odor'] == 'pungent'].loc[df['class'] == 'poisonous']), len(df.loc[df['odor'] == 'pungent'].loc[df['class'] == 'edible'])],\n",
    "        [len(df.loc[df['odor'] == 'almond'].loc[df['class'] == 'poisonous']), len(df.loc[df['odor'] == 'almond'].loc[df['class'] == 'edible'])],\n",
    "        [len(df.loc[df['odor'] == 'anise'].loc[df['class'] == 'poisonous']), len(df.loc[df['odor'] == 'anise'].loc[df['class'] == 'edible'])],\n",
    "        [len(df.loc[df['odor'] == 'none'].loc[df['class'] == 'poisonous']), len(df.loc[df['odor'] == 'none'].loc[df['class'] == 'edible'])],\n",
    "        [len(df.loc[df['odor'] == 'foul'].loc[df['class'] == 'poisonous']), len(df.loc[df['odor'] == 'foul'].loc[df['class'] == 'edible'])],\n",
    "        [len(df.loc[df['odor'] == 'creosote'].loc[df['class'] == 'poisonous']), len(df.loc[df['odor'] == 'creosote'].loc[df['class'] == 'edible'])],\n",
    "        [len(df.loc[df['odor'] == 'fishy'].loc[df['class'] == 'poisonous']), len(df.loc[df['odor'] == 'fishy'].loc[df['class'] == 'edible'])],\n",
    "        [len(df.loc[df['odor'] == 'spicy'].loc[df['class'] == 'poisonous']), len(df.loc[df['odor'] == 'spicy'].loc[df['class'] == 'edible'])],\n",
    "        [len(df.loc[df['odor'] == 'musty'].loc[df['class'] == 'poisonous']), len(df.loc[df['odor'] == 'musty'].loc[df['class'] == 'edible'])]]\n",
    "print(table)"
   ]
  },
  {
   "cell_type": "code",
   "execution_count": 22,
   "metadata": {},
   "outputs": [
    {
     "name": "stdout",
     "output_type": "stream",
     "text": [
      "dof=8\n",
      "[[ 123.39931068  132.60068932]\n",
      " [ 192.81142294  207.18857706]\n",
      " [ 192.81142294  207.18857706]\n",
      " [1700.59675037 1827.40324963]\n",
      " [1041.1816839  1118.8183161 ]\n",
      " [  92.54948301   99.45051699]\n",
      " [ 277.64844904  298.35155096]\n",
      " [ 277.64844904  298.35155096]\n",
      " [  17.35302806   18.64697194]]\n"
     ]
    }
   ],
   "source": [
    "stat, p, dof, expected = chi2_contingency(table)\n",
    "print('dof=%d' % dof)\n",
    "print(expected)"
   ]
  },
  {
   "cell_type": "code",
   "execution_count": 23,
   "metadata": {},
   "outputs": [
    {
     "name": "stdout",
     "output_type": "stream",
     "text": [
      "7659.726740165338\n",
      "0.0\n"
     ]
    }
   ],
   "source": [
    "print(stat)\n",
    "print(p)"
   ]
  },
  {
   "cell_type": "code",
   "execution_count": 24,
   "metadata": {},
   "outputs": [
    {
     "name": "stdout",
     "output_type": "stream",
     "text": [
      "probability=0.990, critical=20.090, stat=7659.727\n",
      "Dependent (reject H0)\n"
     ]
    }
   ],
   "source": [
    "# interpret test-statistic\n",
    "prob = 0.99\n",
    "critical = chi2.ppf(prob, dof)\n",
    "\n",
    "print('probability=%.3f, critical=%.3f, stat=%.3f' % (prob, critical, stat))\n",
    "if abs(stat) >= critical:\n",
    "\tprint('Dependent (reject H0)')\n",
    "else:\n",
    "\tprint('Independent (fail to reject H0)')"
   ]
  },
  {
   "cell_type": "markdown",
   "metadata": {},
   "source": [
    "The 99% confidence interval has a critical value of 20.09. The stat 7659.7 largely exceeds the critical value and the p-value is 0. It can be assumed spore-color-print is statistically significant."
   ]
  },
  {
   "cell_type": "markdown",
   "metadata": {},
   "source": [
    "## Habitat "
   ]
  },
  {
   "cell_type": "code",
   "execution_count": 25,
   "metadata": {},
   "outputs": [
    {
     "data": {
      "text/plain": [
       "<matplotlib.axes._subplots.AxesSubplot at 0x2562e6f1518>"
      ]
     },
     "execution_count": 25,
     "metadata": {},
     "output_type": "execute_result"
    },
    {
     "data": {
      "image/png": "[encoded data removed]",
      "text/plain": [
       "<Figure size 432x288 with 1 Axes>"
      ]
     },
     "metadata": {
      "needs_background": "light"
     },
     "output_type": "display_data"
    }
   ],
   "source": [
    "sns.countplot(x='habitat', hue=\"class\", data=df, palette = 'husl')"
   ]
  },
  {
   "cell_type": "code",
   "execution_count": 26,
   "metadata": {},
   "outputs": [],
   "source": [
    "table = [[len(df.loc[df['habitat'] == 'urban'].loc[df['class'] == 'poisonous']), len(df.loc[df['habitat'] == 'urban'].loc[df['class'] == 'edible'])],\n",
    "        [len(df.loc[df['habitat'] == 'paths'].loc[df['class'] == 'poisonous']), len(df.loc[df['habitat'] == 'paths'].loc[df['class'] == 'edible'])],\n",
    "        [len(df.loc[df['habitat'] == 'waste'].loc[df['class'] == 'poisonous']), len(df.loc[df['habitat'] == 'waste'].loc[df['class'] == 'edible'])]]"
   ]
  },
  {
   "cell_type": "code",
   "execution_count": 27,
   "metadata": {},
   "outputs": [
    {
     "name": "stdout",
     "output_type": "stream",
     "text": [
      "dof=2\n",
      "[[276.43192488  91.56807512]\n",
      " [859.342723   284.657277  ]\n",
      " [144.22535211  47.77464789]]\n"
     ]
    }
   ],
   "source": [
    "stat, p, dof, expected = chi2_contingency(table)\n",
    "print('dof=%d' % dof)\n",
    "print(expected)"
   ]
  },
  {
   "cell_type": "code",
   "execution_count": 28,
   "metadata": {},
   "outputs": [
    {
     "name": "stdout",
     "output_type": "stream",
     "text": [
      "683.2580121273313\n",
      "4.289511223132171e-149\n"
     ]
    }
   ],
   "source": [
    "print(stat)\n",
    "print(p)"
   ]
  },
  {
   "cell_type": "code",
   "execution_count": 29,
   "metadata": {},
   "outputs": [
    {
     "name": "stdout",
     "output_type": "stream",
     "text": [
      "probability=0.999, critical=13.816, stat=683.258\n",
      "Dependent (reject H0)\n"
     ]
    }
   ],
   "source": [
    "# interpret test-statistic\n",
    "prob = 0.999\n",
    "critical = chi2.ppf(prob, dof)\n",
    "\n",
    "print('probability=%.3f, critical=%.3f, stat=%.3f' % (prob, critical, stat))\n",
    "if abs(stat) >= critical:\n",
    "\tprint('Dependent (reject H0)')\n",
    "else:\n",
    "\tprint('Independent (fail to reject H0)')"
   ]
  },
  {
   "cell_type": "markdown",
   "metadata": {},
   "source": [
    "The critical value is 13.816 and the stat is much larger. The p value is very small, showing statistical significance."
   ]
  },
  {
   "cell_type": "markdown",
   "metadata": {},
   "source": [
    "## Gill-size"
   ]
  },
  {
   "cell_type": "code",
   "execution_count": 30,
   "metadata": {
    "scrolled": true
   },
   "outputs": [
    {
     "data": {
      "text/plain": [
       "<matplotlib.axes._subplots.AxesSubplot at 0x2562e898780>"
      ]
     },
     "execution_count": 30,
     "metadata": {},
     "output_type": "execute_result"
    },
    {
     "data": {
      "image/png": "[encoded data removed]",
      "text/plain": [
       "<Figure size 432x288 with 1 Axes>"
      ]
     },
     "metadata": {
      "needs_background": "light"
     },
     "output_type": "display_data"
    }
   ],
   "source": [
    "sns.countplot(x='gill-size', hue=\"class\", data=df, palette = 'husl')"
   ]
  },
  {
   "cell_type": "markdown",
   "metadata": {},
   "source": [
    "**Gill size:** A narrow gill size looks more closely associated with poisonous mushrooms while broad gills are more associated with the other."
   ]
  },
  {
   "cell_type": "code",
   "execution_count": 31,
   "metadata": {},
   "outputs": [],
   "source": [
    "table = [[len(df.loc[df['gill-size'] == 'narrow'].loc[df['class'] == 'poisonous']), len(df.loc[df['gill-size'] == 'narrow'].loc[df['class'] == 'edible'])],\n",
    "        [len(df.loc[df['gill-size'] == 'broad'].loc[df['class'] == 'poisonous']), len(df.loc[df['gill-size'] == 'broad'].loc[df['class'] == 'edible'])]]"
   ]
  },
  {
   "cell_type": "code",
   "execution_count": 32,
   "metadata": {},
   "outputs": [
    {
     "name": "stdout",
     "output_type": "stream",
     "text": [
      "dof=1\n",
      "[[1210.85573609 1301.14426391]\n",
      " [2705.14426391 2906.85573609]]\n",
      "2366.8342569059605\n",
      "0.0\n"
     ]
    }
   ],
   "source": [
    "stat, p, dof, expected = chi2_contingency(table)\n",
    "print('dof=%d' % dof)\n",
    "print(expected)\n",
    "print(stat)\n",
    "print(p)"
   ]
  },
  {
   "cell_type": "code",
   "execution_count": 33,
   "metadata": {},
   "outputs": [
    {
     "name": "stdout",
     "output_type": "stream",
     "text": [
      "probability=0.999, critical=10.828, stat=2366.834\n",
      "Dependent (reject H0)\n"
     ]
    }
   ],
   "source": [
    "# interpret test-statistic\n",
    "prob = 0.999\n",
    "critical = chi2.ppf(prob, dof)\n",
    "\n",
    "print('probability=%.3f, critical=%.3f, stat=%.3f' % (prob, critical, stat))\n",
    "if abs(stat) >= critical:\n",
    "\tprint('Dependent (reject H0)')\n",
    "else:\n",
    "\tprint('Independent (fail to reject H0)')"
   ]
  },
  {
   "cell_type": "markdown",
   "metadata": {},
   "source": [
    "The 99.9% confidence score is 10.828 and our stat of 2366.834 exceeds that."
   ]
  },
  {
   "cell_type": "markdown",
   "metadata": {},
   "source": [
    "# Feature Engineering"
   ]
  },
  {
   "cell_type": "markdown",
   "metadata": {},
   "source": [
    "#### Features 1-4 are based on EDA "
   ]
  },
  {
   "cell_type": "markdown",
   "metadata": {},
   "source": [
    "## Feature 1\n",
    "#### habitat"
   ]
  },
  {
   "cell_type": "markdown",
   "metadata": {},
   "source": [
    "For feature one, looked at the habitat column and split it based on if each feature has human interaction or not. Meaning, if the enviromnent comes in regualr contant with humans, who are known to affect nature is a negative way, will there be more observed poisonous mushrooms? We will create a feature to see it's predictive power."
   ]
  },
  {
   "cell_type": "code",
   "execution_count": 27,
   "metadata": {},
   "outputs": [
    {
     "data": {
      "text/plain": [
       "<seaborn.axisgrid.FacetGrid at 0x22270f38d30>"
      ]
     },
     "execution_count": 27,
     "metadata": {},
     "output_type": "execute_result"
    },
    {
     "data": {
      "image/png": "[encoded data removed]",
      "text/plain": [
       "<Figure size 446.375x360 with 1 Axes>"
      ]
     },
     "metadata": {
      "needs_background": "light"
     },
     "output_type": "display_data"
    }
   ],
   "source": [
    "sns.catplot(x='habitat', hue=\"class\", kind='count', data=df, palette = 'husl')"
   ]
  },
  {
   "cell_type": "markdown",
   "metadata": {},
   "source": [
    "**Habitat:** From the habitat graph one can see that waste has edible mushrooms. Wood and grass areas are more likely to have edible mushrooms, but a lot of mushrooms found in the woody and grassy areas are poisonous. Paths are likely to have poisonous mushrooms.  "
   ]
  },
  {
   "cell_type": "code",
   "execution_count": 35,
   "metadata": {},
   "outputs": [],
   "source": [
    "df['human_interference'] = np.where((df['habitat'] == 'urban') | (df['habitat'] == 'paths') | (df['habitat'] == 'waste'), 1, 0)"
   ]
  },
  {
   "cell_type": "code",
   "execution_count": 36,
   "metadata": {},
   "outputs": [
    {
     "data": {
      "text/plain": [
       "0    6420\n",
       "1    1704\n",
       "Name: human_interference, dtype: int64"
      ]
     },
     "execution_count": 36,
     "metadata": {},
     "output_type": "execute_result"
    }
   ],
   "source": [
    "# check value counts for over- or under- sampling\n",
    "df['human_interference'].value_counts()"
   ]
  },
  {
   "cell_type": "markdown",
   "metadata": {},
   "source": [
    "1704 human-touched areas and 6420 nature-preserved areas."
   ]
  },
  {
   "cell_type": "markdown",
   "metadata": {},
   "source": [
    "## Feature 2 \n",
    "#### odor"
   ]
  },
  {
   "cell_type": "markdown",
   "metadata": {},
   "source": [
    "For feature 2 we split on what was considered \"good\" or \"bad\" odors. We see some kind of pattern in the graph below that may help our model correctly classify our mushrooms."
   ]
  },
  {
   "cell_type": "code",
   "execution_count": 37,
   "metadata": {
    "scrolled": true
   },
   "outputs": [
    {
     "data": {
      "text/plain": [
       "<seaborn.axisgrid.FacetGrid at 0x2562d5274a8>"
      ]
     },
     "execution_count": 37,
     "metadata": {},
     "output_type": "execute_result"
    },
    {
     "data": {
      "image/png": "[encoded data removed]",
      "text/plain": [
       "<Figure size 446.375x360 with 1 Axes>"
      ]
     },
     "metadata": {
      "needs_background": "light"
     },
     "output_type": "display_data"
    }
   ],
   "source": [
    "sns.catplot(x='odor', hue=\"class\", kind='count', data=df, palette = 'husl')"
   ]
  },
  {
   "cell_type": "markdown",
   "metadata": {},
   "source": [
    "\n",
    "\n",
    "**odor:** Interestingly, things that we would typically consider \"good\" smells are for mainly for edible mushrooms. All other less pleasant smelling mushrooms are indications of a poisonous species."
   ]
  },
  {
   "cell_type": "code",
   "execution_count": 38,
   "metadata": {},
   "outputs": [],
   "source": [
    "df['offensive_odor'] = np.where((df['odor'] == 'almond') | (df['odor'] == 'anise') | (df['odor'] == 'none'), 1, 0)"
   ]
  },
  {
   "cell_type": "markdown",
   "metadata": {},
   "source": [
    "0 for fine smell 1 for bad smell"
   ]
  },
  {
   "cell_type": "code",
   "execution_count": 39,
   "metadata": {},
   "outputs": [
    {
     "data": {
      "text/plain": [
       "1    4328\n",
       "0    3796\n",
       "Name: offensive_odor, dtype: int64"
      ]
     },
     "execution_count": 39,
     "metadata": {},
     "output_type": "execute_result"
    }
   ],
   "source": [
    "df['offensive_odor'].value_counts()"
   ]
  },
  {
   "cell_type": "markdown",
   "metadata": {},
   "source": [
    "4904 smell fine and 3220 smell bad. This feature seems to be evenly distributed."
   ]
  },
  {
   "cell_type": "markdown",
   "metadata": {},
   "source": [
    "## Feature 3 \n",
    "#### spore-print-color"
   ]
  },
  {
   "cell_type": "code",
   "execution_count": 33,
   "metadata": {},
   "outputs": [
    {
     "data": {
      "text/plain": [
       "<seaborn.axisgrid.FacetGrid at 0x22270021c50>"
      ]
     },
     "execution_count": 33,
     "metadata": {},
     "output_type": "execute_result"
    },
    {
     "data": {
      "image/png": "[encoded data removed]",
      "text/plain": [
       "<Figure size 446.375x360 with 1 Axes>"
      ]
     },
     "metadata": {
      "needs_background": "light"
     },
     "output_type": "display_data"
    }
   ],
   "source": [
    "sns.catplot(x='spore-print-color', hue=\"class\", kind='count', data=df, palette = 'husl')"
   ]
  },
  {
   "cell_type": "markdown",
   "metadata": {},
   "source": [
    "**Spore-print-color:** Buff, yellow, orange, and purple mushrooms are edible. Green mushrooms are poisonous. Black and brown mushrooms are mostly edible, but not entirely. Chocolate and white colored mushrooms are mostly poisonous."
   ]
  },
  {
   "cell_type": "markdown",
   "metadata": {},
   "source": [
    "Chlorophyllum molybdites is name of one of the most poisonous mushrooms which produce green spore prints."
   ]
  },
  {
   "cell_type": "code",
   "execution_count": 40,
   "metadata": {},
   "outputs": [],
   "source": [
    "df['c_molybdites'] = np.where((df['spore-print-color'] == 'green'), 1, 0)"
   ]
  },
  {
   "cell_type": "code",
   "execution_count": 41,
   "metadata": {},
   "outputs": [
    {
     "data": {
      "text/plain": [
       "0    8052\n",
       "1      72\n",
       "Name: c_molybdites, dtype: int64"
      ]
     },
     "execution_count": 41,
     "metadata": {},
     "output_type": "execute_result"
    }
   ],
   "source": [
    "df['c_molybdites'].value_counts()"
   ]
  },
  {
   "cell_type": "markdown",
   "metadata": {},
   "source": [
    "A lot of oversampling from non-green color spore prints."
   ]
  },
  {
   "cell_type": "markdown",
   "metadata": {},
   "source": [
    "## Feature 4\n",
    "#### ring-number"
   ]
  },
  {
   "cell_type": "markdown",
   "metadata": {},
   "source": [
    "According to the bar graph mushrooms without rings are poisonous."
   ]
  },
  {
   "cell_type": "code",
   "execution_count": 37,
   "metadata": {},
   "outputs": [
    {
     "data": {
      "text/plain": [
       "<seaborn.axisgrid.FacetGrid at 0x222701694e0>"
      ]
     },
     "execution_count": 37,
     "metadata": {},
     "output_type": "execute_result"
    },
    {
     "data": {
      "image/png": "[encoded data removed]",
      "text/plain": [
       "<Figure size 446.375x360 with 1 Axes>"
      ]
     },
     "metadata": {
      "needs_background": "light"
     },
     "output_type": "display_data"
    }
   ],
   "source": [
    "sns.catplot(x='ring-number', hue=\"class\", kind='count', data=df, palette = 'husl')"
   ]
  },
  {
   "cell_type": "markdown",
   "metadata": {},
   "source": [
    "**Ring number:** There's a lot of uncertainty with one ring. One ring could be edible or poisonous. Two rings mushrooms are likely to be edible, but we can't be positive. Mushrooms without rings are poisonous. "
   ]
  },
  {
   "cell_type": "code",
   "execution_count": 42,
   "metadata": {},
   "outputs": [],
   "source": [
    "df['no_rings'] = np.where(df['ring-number'] == 'none', 1, 0)"
   ]
  },
  {
   "cell_type": "code",
   "execution_count": 43,
   "metadata": {
    "scrolled": true
   },
   "outputs": [
    {
     "data": {
      "text/plain": [
       "0    8088\n",
       "1      36\n",
       "Name: no_rings, dtype: int64"
      ]
     },
     "execution_count": 43,
     "metadata": {},
     "output_type": "execute_result"
    }
   ],
   "source": [
    "df['no_rings'].value_counts()"
   ]
  },
  {
   "cell_type": "markdown",
   "metadata": {},
   "source": [
    "## Feature 5\n",
    "#### edible spores"
   ]
  },
  {
   "cell_type": "code",
   "execution_count": 44,
   "metadata": {},
   "outputs": [],
   "source": [
    "df['non_toxic_spore_color'] = np.where((df['spore-print-color'] == 'purple') | (df['spore-print-color'] == 'orange') |\n",
    "                              (df['spore-print-color'] == 'yellow') | (df['spore-print-color'] == 'buff'), 1 , 0)"
   ]
  },
  {
   "cell_type": "code",
   "execution_count": 45,
   "metadata": {},
   "outputs": [
    {
     "data": {
      "text/plain": [
       "0    7932\n",
       "1     192\n",
       "Name: non_toxic_spore_color, dtype: int64"
      ]
     },
     "execution_count": 45,
     "metadata": {},
     "output_type": "execute_result"
    }
   ],
   "source": [
    "df['non_toxic_spore_color'].value_counts()"
   ]
  },
  {
   "cell_type": "markdown",
   "metadata": {},
   "source": [
    "#### Features 6-7 are based on domain knowledge "
   ]
  },
  {
   "cell_type": "markdown",
   "metadata": {},
   "source": [
    "## Feature 6\n",
    "#### poison mushrooms\n",
    "Coupling a few things based on an article that lists the *general* cirteria for toxic mushrooms"
   ]
  },
  {
   "cell_type": "code",
   "execution_count": 46,
   "metadata": {},
   "outputs": [],
   "source": [
    "df['prob_tox'] = np.where((df['cap-surface'] == 'scaly') | (df['veil-type'] == 'universal') |\n",
    "                              (df['spore-print-color'] == 'white') | (df['gill-size'] == 'narrow') | \n",
    "                          (df['gill-color'] == 'white') | (df['ring-number'] != 'none') | \n",
    "                          (df['stalk-root'] == 'bulbous') | (df['cap-color'] == 'red'), 1 , 0)"
   ]
  },
  {
   "cell_type": "markdown",
   "metadata": {},
   "source": [
    "## Feature 7\n",
    "#### Edible mushrooms\n",
    "Coupling a few things based on an article that lists the *general* cirteria for edible mushrooms"
   ]
  },
  {
   "cell_type": "code",
   "execution_count": 47,
   "metadata": {},
   "outputs": [],
   "source": [
    "df['prob_ed'] = np.where((df['gill-color'] == 'brown') | (df['gill-color'] == 'tan') | (df['cap-color'] != 'red') |\n",
    "                         (df['cap-surface'] != 'scaly')| (df['ring-number'] == 'none'), 1 , 0)"
   ]
  },
  {
   "cell_type": "code",
   "execution_count": 117,
   "metadata": {},
   "outputs": [],
   "source": [
    "# Check features and save df to new csv\n",
    "# df.to_csv('mushroom_ft_engineer.csv')"
   ]
  },
  {
   "cell_type": "markdown",
   "metadata": {},
   "source": [
    "# Feature Selection"
   ]
  },
  {
   "cell_type": "code",
   "execution_count": 49,
   "metadata": {},
   "outputs": [
    {
     "data": {
      "text/html": [
       "<div>\n",
       "<style scoped>\n",
       "    .dataframe tbody tr th:only-of-type {\n",
       "        vertical-align: middle;\n",
       "    }\n",
       "\n",
       "    .dataframe tbody tr th {\n",
       "        vertical-align: top;\n",
       "    }\n",
       "\n",
       "    .dataframe thead th {\n",
       "        text-align: right;\n",
       "    }\n",
       "</style>\n",
       "<table border=\"1\" class=\"dataframe\">\n",
       "  <thead>\n",
       "    <tr style=\"text-align: right;\">\n",
       "      <th></th>\n",
       "      <th>class</th>\n",
       "      <th>cap-shape</th>\n",
       "      <th>cap-surface</th>\n",
       "      <th>cap-color</th>\n",
       "      <th>bruises</th>\n",
       "      <th>odor</th>\n",
       "      <th>gill-attachment</th>\n",
       "      <th>gill-spacing</th>\n",
       "      <th>gill-size</th>\n",
       "      <th>gill-color</th>\n",
       "      <th>...</th>\n",
       "      <th>spore-print-color</th>\n",
       "      <th>population</th>\n",
       "      <th>habitat</th>\n",
       "      <th>human_interference</th>\n",
       "      <th>offensive_odor</th>\n",
       "      <th>c_molybdites</th>\n",
       "      <th>non_toxic_spore_color</th>\n",
       "      <th>prob_tox</th>\n",
       "      <th>prob_ed</th>\n",
       "      <th>no_rings</th>\n",
       "    </tr>\n",
       "  </thead>\n",
       "  <tbody>\n",
       "    <tr>\n",
       "      <th>0</th>\n",
       "      <td>poisonous</td>\n",
       "      <td>convex</td>\n",
       "      <td>smooth</td>\n",
       "      <td>brown</td>\n",
       "      <td>bruises</td>\n",
       "      <td>pungent</td>\n",
       "      <td>free</td>\n",
       "      <td>close</td>\n",
       "      <td>narrow</td>\n",
       "      <td>black</td>\n",
       "      <td>...</td>\n",
       "      <td>black</td>\n",
       "      <td>scattered</td>\n",
       "      <td>urban</td>\n",
       "      <td>1</td>\n",
       "      <td>0</td>\n",
       "      <td>0</td>\n",
       "      <td>0</td>\n",
       "      <td>1</td>\n",
       "      <td>1</td>\n",
       "      <td>0</td>\n",
       "    </tr>\n",
       "    <tr>\n",
       "      <th>1</th>\n",
       "      <td>edible</td>\n",
       "      <td>convex</td>\n",
       "      <td>smooth</td>\n",
       "      <td>yellow</td>\n",
       "      <td>bruises</td>\n",
       "      <td>almond</td>\n",
       "      <td>free</td>\n",
       "      <td>close</td>\n",
       "      <td>broad</td>\n",
       "      <td>black</td>\n",
       "      <td>...</td>\n",
       "      <td>brown</td>\n",
       "      <td>numerous</td>\n",
       "      <td>grasses</td>\n",
       "      <td>0</td>\n",
       "      <td>1</td>\n",
       "      <td>0</td>\n",
       "      <td>0</td>\n",
       "      <td>1</td>\n",
       "      <td>1</td>\n",
       "      <td>0</td>\n",
       "    </tr>\n",
       "    <tr>\n",
       "      <th>2</th>\n",
       "      <td>edible</td>\n",
       "      <td>bell</td>\n",
       "      <td>smooth</td>\n",
       "      <td>white</td>\n",
       "      <td>bruises</td>\n",
       "      <td>anise</td>\n",
       "      <td>free</td>\n",
       "      <td>close</td>\n",
       "      <td>broad</td>\n",
       "      <td>brown</td>\n",
       "      <td>...</td>\n",
       "      <td>brown</td>\n",
       "      <td>numerous</td>\n",
       "      <td>meadows</td>\n",
       "      <td>0</td>\n",
       "      <td>1</td>\n",
       "      <td>0</td>\n",
       "      <td>0</td>\n",
       "      <td>1</td>\n",
       "      <td>1</td>\n",
       "      <td>0</td>\n",
       "    </tr>\n",
       "  </tbody>\n",
       "</table>\n",
       "<p>3 rows × 30 columns</p>\n",
       "</div>"
      ],
      "text/plain": [
       "       class cap-shape cap-surface cap-color  bruises     odor  \\\n",
       "0  poisonous    convex      smooth     brown  bruises  pungent   \n",
       "1     edible    convex      smooth    yellow  bruises   almond   \n",
       "2     edible      bell      smooth     white  bruises    anise   \n",
       "\n",
       "  gill-attachment gill-spacing gill-size gill-color  ... spore-print-color  \\\n",
       "0            free        close    narrow      black  ...             black   \n",
       "1            free        close     broad      black  ...             brown   \n",
       "2            free        close     broad      brown  ...             brown   \n",
       "\n",
       "  population  habitat human_interference offensive_odor c_molybdites  \\\n",
       "0  scattered    urban                  1              0            0   \n",
       "1   numerous  grasses                  0              1            0   \n",
       "2   numerous  meadows                  0              1            0   \n",
       "\n",
       "  non_toxic_spore_color prob_tox prob_ed no_rings  \n",
       "0                     0        1       1        0  \n",
       "1                     0        1       1        0  \n",
       "2                     0        1       1        0  \n",
       "\n",
       "[3 rows x 30 columns]"
      ]
     },
     "execution_count": 49,
     "metadata": {},
     "output_type": "execute_result"
    }
   ],
   "source": [
    "# load feature engineered df to df2\n",
    "df = pd.read_csv('data/mushroom_ft_engineer.csv', index_col = 0)\n",
    "df.head(3)"
   ]
  },
  {
   "cell_type": "code",
   "execution_count": null,
   "metadata": {},
   "outputs": [],
   "source": [
    "# # manually label encode the data\n",
    "\n",
    "# df['cap-shape'].unique()\n",
    "# df['cap-shape'] = df['cap-shape'].map({'convex':1, 'bell':2, 'sunken':3, 'flat':4, 'knobbed':5, 'conical':6})\n",
    "# df['cap-surface'].unique()\n",
    "# df['cap-surface'] = df['cap-surface'].map({'smooth':1, 'scaly':2, 'fibrous':3, 'grooves':4})\n",
    "# df['cap-color'].unique()\n",
    "# df['cap-color'] = df['cap-color'].map({'brown':1, 'yellow':2, 'white':3, 'gray':4, 'red':5, 'pink':6, 'buff':7, \n",
    "#                                        'purple':8, 'cinnamon':9, 'green': 10})\n",
    "# df['bruises'].unique()\n",
    "# df['bruises'] = df['bruises'].map({'bruises':1, 'no':2})\n",
    "# df['odor'].unique()\n",
    "# df['odor'] = df['odor'].map({'pungent':1, 'almond':2, 'anise':3, 'none':4, 'foul':5, 'creosote':6, 'fishy':7, \n",
    "#                                        'spicy':8, 'musty': 9})\n",
    "# df['gill-attachment'].unique()\n",
    "# df['gill-attachment'] = df['gill-attachment'].map({'free':1, 'attached':2})\n",
    "# df['gill-spacing'].unique()\n",
    "# df['gill-spacing'] = df['gill-spacing'].map({'close':1, 'crowded':2})\n",
    "# df['gill-size'].unique()\n",
    "# df['gill-size'] = df['gill-size'].map({'narrow':1, 'broad':2})\n",
    "# df['gill-color'].unique()\n",
    "# df['gill-color'] = df['gill-color'].map({'black':1, 'brown':2, 'gray':3, 'pink':4, 'white':5, 'chocolate':6, 'purple':7, \n",
    "#                                        'green':8, 'buff': 9, 'red':10, 'yellow':11, 'orange':12})\n",
    "# df['stalk-shape'].unique()\n",
    "# df['stalk-shape'] = df['stalk-shape'].map({'enlarging':1, 'tapering':2})\n",
    "# df['stalk-root'].unique()\n",
    "# df['stalk-root'] = df['stalk-root'].map({'equal':1, 'club':2, 'bulbous':3, 'rooted':4, 'missing':5})\n",
    "# df['stalk-surface-above-ring'].unique()\n",
    "# df['stalk-surface-above-ring'] = df['stalk-surface-above-ring'].map({'smooth':1, 'fibrous':2, 'silky':3, 'scaly':4})\n",
    "# df['stalk-surface-below-ring'].unique()\n",
    "# df['stalk-surface-below-ring'] = df['stalk-surface-below-ring'].map({'smooth':1, 'fibrous':2, 'scaly':3, 'silky':4})\n",
    "# df['stalk-color-above-ring'].unique()\n",
    "# df['stalk-color-above-ring'] = df['stalk-color-above-ring'].map({'white':1, 'gray':2, 'pink':3, 'brown':4, 'buff':5, 'red':6,\n",
    "#                                                                  'orange':7, 'cinnamon':8, 'yellow': 9})\n",
    "# df['stalk-color-below-ring'].unique()\n",
    "# df['stalk-color-below-ring'] = df['stalk-color-below-ring'].map({'white':1, 'pink':2, 'gray':3, 'buff':4, 'brown':5,\n",
    "#                                                                     'red':6, 'yellow':7, 'orange':8, 'cinnamon': 9})\n",
    "# df['veil-type'].unique()\n",
    "# df['veil-type'] = df['veil-type'].map({'partial':1})\n",
    "# df['veil-color'].unique()\n",
    "# df['veil-color'] = df['veil-color'].map({'white':1, 'brown':2, 'orange':3, 'yellow':4})\n",
    "# df['ring-number'].unique()\n",
    "# df['ring-number'] = df['ring-number'].map({'one':1, 'two':2, 'none':3})\n",
    "# df['ring-type'].unique()\n",
    "# df['ring-type'] = df['ring-type'].map({'pendant':1, 'evanescent':2, 'large':3, 'flaring':4, 'none':5})\n",
    "# df['spore-print-color'].unique()\n",
    "# df['spore-print-color'] = df['spore-print-color'].map({'black':1, 'brown':2, 'purple':3, 'chocolate':4, 'white':5, 'green':6, \n",
    "#                                                        'orange':7, 'yellow':8, 'buff': 9})\n",
    "# df['population'].unique()\n",
    "# df['population'] = df['population'].map({'scattered':1, 'numerous':2, 'abundant':3, 'several':4, 'solitary':5, 'clustered':6})\n",
    "# df['habitat'].unique()\n",
    "# df['habitat'] = df['habitat'].map({'urban':1, 'grasses':2, 'meadows':3, 'woods':4, 'paths':5, 'waste':6, 'leaves':7})\n",
    "# df['class'].unique()\n",
    "# df['class'] = df['class'].map({'poisonous':1, 'edible':2})"
   ]
  },
  {
   "cell_type": "code",
   "execution_count": 50,
   "metadata": {},
   "outputs": [
    {
     "data": {
      "text/html": [
       "<div>\n",
       "<style scoped>\n",
       "    .dataframe tbody tr th:only-of-type {\n",
       "        vertical-align: middle;\n",
       "    }\n",
       "\n",
       "    .dataframe tbody tr th {\n",
       "        vertical-align: top;\n",
       "    }\n",
       "\n",
       "    .dataframe thead th {\n",
       "        text-align: right;\n",
       "    }\n",
       "</style>\n",
       "<table border=\"1\" class=\"dataframe\">\n",
       "  <thead>\n",
       "    <tr style=\"text-align: right;\">\n",
       "      <th></th>\n",
       "      <th>class</th>\n",
       "      <th>cap-shape</th>\n",
       "      <th>cap-surface</th>\n",
       "      <th>cap-color</th>\n",
       "      <th>bruises</th>\n",
       "      <th>odor</th>\n",
       "      <th>gill-attachment</th>\n",
       "      <th>gill-spacing</th>\n",
       "      <th>gill-size</th>\n",
       "      <th>gill-color</th>\n",
       "      <th>...</th>\n",
       "      <th>spore-print-color</th>\n",
       "      <th>population</th>\n",
       "      <th>habitat</th>\n",
       "      <th>human_interference</th>\n",
       "      <th>offensive_odor</th>\n",
       "      <th>c_molybdites</th>\n",
       "      <th>non_toxic_spore_color</th>\n",
       "      <th>prob_tox</th>\n",
       "      <th>prob_ed</th>\n",
       "      <th>no_rings</th>\n",
       "    </tr>\n",
       "  </thead>\n",
       "  <tbody>\n",
       "    <tr>\n",
       "      <th>0</th>\n",
       "      <td>1</td>\n",
       "      <td>2</td>\n",
       "      <td>3</td>\n",
       "      <td>0</td>\n",
       "      <td>0</td>\n",
       "      <td>7</td>\n",
       "      <td>1</td>\n",
       "      <td>0</td>\n",
       "      <td>1</td>\n",
       "      <td>0</td>\n",
       "      <td>...</td>\n",
       "      <td>0</td>\n",
       "      <td>3</td>\n",
       "      <td>4</td>\n",
       "      <td>1</td>\n",
       "      <td>0</td>\n",
       "      <td>0</td>\n",
       "      <td>0</td>\n",
       "      <td>0</td>\n",
       "      <td>1</td>\n",
       "      <td>0</td>\n",
       "    </tr>\n",
       "    <tr>\n",
       "      <th>1</th>\n",
       "      <td>0</td>\n",
       "      <td>2</td>\n",
       "      <td>3</td>\n",
       "      <td>9</td>\n",
       "      <td>0</td>\n",
       "      <td>0</td>\n",
       "      <td>1</td>\n",
       "      <td>0</td>\n",
       "      <td>0</td>\n",
       "      <td>0</td>\n",
       "      <td>...</td>\n",
       "      <td>1</td>\n",
       "      <td>2</td>\n",
       "      <td>0</td>\n",
       "      <td>0</td>\n",
       "      <td>1</td>\n",
       "      <td>0</td>\n",
       "      <td>0</td>\n",
       "      <td>0</td>\n",
       "      <td>1</td>\n",
       "      <td>0</td>\n",
       "    </tr>\n",
       "    <tr>\n",
       "      <th>2</th>\n",
       "      <td>0</td>\n",
       "      <td>0</td>\n",
       "      <td>3</td>\n",
       "      <td>8</td>\n",
       "      <td>0</td>\n",
       "      <td>1</td>\n",
       "      <td>1</td>\n",
       "      <td>0</td>\n",
       "      <td>0</td>\n",
       "      <td>1</td>\n",
       "      <td>...</td>\n",
       "      <td>1</td>\n",
       "      <td>2</td>\n",
       "      <td>2</td>\n",
       "      <td>0</td>\n",
       "      <td>1</td>\n",
       "      <td>0</td>\n",
       "      <td>0</td>\n",
       "      <td>0</td>\n",
       "      <td>1</td>\n",
       "      <td>0</td>\n",
       "    </tr>\n",
       "    <tr>\n",
       "      <th>3</th>\n",
       "      <td>1</td>\n",
       "      <td>2</td>\n",
       "      <td>2</td>\n",
       "      <td>8</td>\n",
       "      <td>0</td>\n",
       "      <td>7</td>\n",
       "      <td>1</td>\n",
       "      <td>0</td>\n",
       "      <td>1</td>\n",
       "      <td>1</td>\n",
       "      <td>...</td>\n",
       "      <td>0</td>\n",
       "      <td>3</td>\n",
       "      <td>4</td>\n",
       "      <td>1</td>\n",
       "      <td>0</td>\n",
       "      <td>0</td>\n",
       "      <td>0</td>\n",
       "      <td>0</td>\n",
       "      <td>1</td>\n",
       "      <td>0</td>\n",
       "    </tr>\n",
       "    <tr>\n",
       "      <th>4</th>\n",
       "      <td>0</td>\n",
       "      <td>2</td>\n",
       "      <td>3</td>\n",
       "      <td>3</td>\n",
       "      <td>1</td>\n",
       "      <td>6</td>\n",
       "      <td>1</td>\n",
       "      <td>1</td>\n",
       "      <td>0</td>\n",
       "      <td>0</td>\n",
       "      <td>...</td>\n",
       "      <td>1</td>\n",
       "      <td>0</td>\n",
       "      <td>0</td>\n",
       "      <td>0</td>\n",
       "      <td>1</td>\n",
       "      <td>0</td>\n",
       "      <td>0</td>\n",
       "      <td>0</td>\n",
       "      <td>1</td>\n",
       "      <td>0</td>\n",
       "    </tr>\n",
       "  </tbody>\n",
       "</table>\n",
       "<p>5 rows × 30 columns</p>\n",
       "</div>"
      ],
      "text/plain": [
       "   class  cap-shape  cap-surface  cap-color  bruises  odor  gill-attachment  \\\n",
       "0      1          2            3          0        0     7                1   \n",
       "1      0          2            3          9        0     0                1   \n",
       "2      0          0            3          8        0     1                1   \n",
       "3      1          2            2          8        0     7                1   \n",
       "4      0          2            3          3        1     6                1   \n",
       "\n",
       "   gill-spacing  gill-size  gill-color  ...  spore-print-color  population  \\\n",
       "0             0          1           0  ...                  0           3   \n",
       "1             0          0           0  ...                  1           2   \n",
       "2             0          0           1  ...                  1           2   \n",
       "3             0          1           1  ...                  0           3   \n",
       "4             1          0           0  ...                  1           0   \n",
       "\n",
       "   habitat  human_interference  offensive_odor  c_molybdites  \\\n",
       "0        4                   1               0             0   \n",
       "1        0                   0               1             0   \n",
       "2        2                   0               1             0   \n",
       "3        4                   1               0             0   \n",
       "4        0                   0               1             0   \n",
       "\n",
       "   non_toxic_spore_color  prob_tox  prob_ed  no_rings  \n",
       "0                      0         0        1         0  \n",
       "1                      0         0        1         0  \n",
       "2                      0         0        1         0  \n",
       "3                      0         0        1         0  \n",
       "4                      0         0        1         0  \n",
       "\n",
       "[5 rows x 30 columns]"
      ]
     },
     "execution_count": 50,
     "metadata": {},
     "output_type": "execute_result"
    }
   ],
   "source": [
    "from sklearn.preprocessing import StandardScaler, LabelEncoder\n",
    "for column in df.columns.values:\n",
    "    le = LabelEncoder()\n",
    "    df[column] = le.fit_transform(df[column])\n",
    "df.head()"
   ]
  },
  {
   "cell_type": "code",
   "execution_count": 126,
   "metadata": {},
   "outputs": [],
   "source": [
    "# save label encoded df to new csv\n",
    "# df.to_csv('le_mushroom_ft_engineer.csv')"
   ]
  },
  {
   "cell_type": "markdown",
   "metadata": {},
   "source": [
    "## Grid Search\n",
    "Apply Grid Search to get the best parameters for each model."
   ]
  },
  {
   "cell_type": "markdown",
   "metadata": {},
   "source": [
    "#### Random Forest\n",
    "\n",
    "For random forest, we used all of the features to get an idea of how many would be most optimal for us to use."
   ]
  },
  {
   "cell_type": "code",
   "execution_count": 51,
   "metadata": {},
   "outputs": [],
   "source": [
    "# assign X anf y variables to featured columns and target column, repectively\n",
    "X = df.drop(['class'], axis = 1)\n",
    "y = df['class']\n",
    "\n",
    "# Split X and y with even class distributions using startify\n",
    "X_train, X_test, y_train, y_test = train_test_split(X, y, test_size=.2, random_state=42, stratify=y)\n",
    "\n",
    "#Scale the data\n",
    "ss = StandardScaler()\n",
    "ss.fit(X_train)\n",
    "X_train = pd.DataFrame(ss.transform(X_train), columns=X_train.columns)\n",
    "X_test = pd.DataFrame(ss.transform(X_test), columns=X_test.columns)"
   ]
  },
  {
   "cell_type": "code",
   "execution_count": null,
   "metadata": {},
   "outputs": [
    {
     "name": "stderr",
     "output_type": "stream",
     "text": [
      "[Parallel(n_jobs=-1)]: Using backend LokyBackend with 8 concurrent workers.\n",
      "[Parallel(n_jobs=-1)]: Done  56 tasks      | elapsed:   11.0s\n",
      "[Parallel(n_jobs=-1)]: Done 272 tasks      | elapsed:   54.1s\n",
      "[Parallel(n_jobs=-1)]: Done 632 tasks      | elapsed:  1.8min\n",
      "[Parallel(n_jobs=-1)]: Done 1136 tasks      | elapsed:  3.2min\n",
      "[Parallel(n_jobs=-1)]: Done 1784 tasks      | elapsed:  4.8min\n",
      "[Parallel(n_jobs=-1)]: Done 2576 tasks      | elapsed:  6.9min\n"
     ]
    }
   ],
   "source": [
    "rf_param_grid = {\n",
    "    \"criterion\": [\"gini\", \"entropy\"],\n",
    "    \"max_depth\": [None, 2, 4, 6, 10],\n",
    "    \"max_features\": [None,4,5,6,9,10],\n",
    "    \"min_samples_split\": [2, 5, 10],\n",
    "    \"min_samples_leaf\" : [1, 2, 3, 5, 6],\n",
    "    \"n_estimators\" : [10, 30, 100, 500],\n",
    "    \"random_state\": [27,42]\n",
    "}\n",
    "\n",
    "\n",
    "rf_grid = RandomForestClassifier()\n",
    "rf_gridsearch = GridSearchCV(rf_grid, rf_param_grid, cv=3, return_train_score=True, n_jobs=-1, verbose=-1)\n",
    "\n",
    "rf_gridsearch.fit(X_train, y_train)"
   ]
  },
  {
   "cell_type": "code",
   "execution_count": null,
   "metadata": {},
   "outputs": [],
   "source": [
    "print(\"Testing Accuracy: {:.4}%\".format(rf_gridsearch.best_score_ * 100))\n",
    "print(\"\")\n",
    "print(\"Optimal Parameters: {}\".format(rf_gridsearch.best_params_))\n",
    "\n",
    "# Actual model object fit with those best parameters\n",
    "# Also shows default parameters that we did not specify\n",
    "print(\"Best Model: {}\".format(rf_gridsearch.best_estimator_))"
   ]
  },
  {
   "cell_type": "code",
   "execution_count": null,
   "metadata": {},
   "outputs": [],
   "source": [
    "rf_gridsearch.score(X_test, y_test)"
   ]
  },
  {
   "cell_type": "markdown",
   "metadata": {},
   "source": [
    "We get a testing accuracy of 99.2% and a score of 1. This means our model for random forest works extremely well. Maybe too well? We can test this by playing around with other models to see if we come up with differences."
   ]
  },
  {
   "cell_type": "markdown",
   "metadata": {},
   "source": [
    "#### Decisoin Tree\n",
    "\n",
    "For the decision tree classifier, since upon running the model with all initial columns we get 100% right away, we wanted to test and see if we can get the same results when we remove our most powerful predictive features."
   ]
  },
  {
   "cell_type": "code",
   "execution_count": null,
   "metadata": {},
   "outputs": [],
   "source": [
    "y = df['class']\n",
    "X = df.drop(['class', 'spore-print-color', 'veil-type'] , axis = 1)\n",
    "\n",
    "# Split X and y with even class distributions\n",
    "# stratify to create randomness in your data but one that also has the same propoertoins across train and test\n",
    "X_train, X_test, y_train, y_test = train_test_split(X, y, test_size=.2, random_state=42, stratify=y)\n",
    "\n",
    "#Scale the data\n",
    "ss = StandardScaler()\n",
    "ss.fit(X_train)\n",
    "X_train = pd.DataFrame(ss.transform(X_train), columns=X_train.columns)\n",
    "X_test = pd.DataFrame(ss.transform(X_test), columns=X_test.columns)"
   ]
  },
  {
   "cell_type": "code",
   "execution_count": null,
   "metadata": {},
   "outputs": [],
   "source": [
    "dtree_param_grid = {\n",
    "    \"class_weight\": ['balanced'],\n",
    "    \"criterion\": [\"gini\", \"entropy\"],\n",
    "    \"max_depth\": [None, 2, 4, 6, 10],\n",
    "    \"max_features\": [None,4,5,6,9,10],\n",
    "    \"min_samples_split\": [2, 5, 10],\n",
    "    \"min_samples_leaf\" : [1, 2, 3, 5, 6],\n",
    "    \"random_state\": [27,42,70]\n",
    "}\n",
    "\n",
    "\n",
    "dtree_grid = DecisionTreeClassifier()\n",
    "dtree_gridsearch = GridSearchCV(dtree_grid, dtree_param_grid, cv=3, return_train_score=True, n_jobs=-1, verbose=-1)\n",
    "\n",
    "dtree_gridsearch.fit(X_train, y_train)"
   ]
  },
  {
   "cell_type": "code",
   "execution_count": null,
   "metadata": {},
   "outputs": [],
   "source": [
    "print(\"Testing Accuracy: {:.4}%\".format(dtree_gridsearch.best_score_ * 100))\n",
    "print(\"\")\n",
    "print(\"Optimal Parameters: {}\".format(dtree_gridsearch.best_params_))\n",
    "\n",
    "# Actual model object fit with those best parameters\n",
    "# Shows default parameters that we did not specify\n",
    "print(\"Best Model: {}\".format(dtree_gridsearch.best_estimator_))"
   ]
  },
  {
   "cell_type": "code",
   "execution_count": null,
   "metadata": {},
   "outputs": [],
   "source": [
    "dtree_gridsearch.score(X_test, y_test)"
   ]
  },
  {
   "cell_type": "markdown",
   "metadata": {},
   "source": [
    "Now, without 2 columns (spore print color and viel-type) and tuned hyperparameters from grid search, we see that we still have 100% accuracy. We can use these hyperparameters to test our model."
   ]
  },
  {
   "cell_type": "markdown",
   "metadata": {},
   "source": [
    "#### Logistic Regression"
   ]
  },
  {
   "cell_type": "code",
   "execution_count": null,
   "metadata": {},
   "outputs": [],
   "source": [
    "y = df['class']\n",
    "X = df.drop(['class', 'spore-print-color', 'veil-type'] , axis = 1)\n",
    "\n",
    "# Split X and y with even class distributions\n",
    "# stratify to create randomness in your data but one that also has the same propoertoins across train and test\n",
    "X_train, X_test, y_train, y_test = train_test_split(X, y, test_size=.2, random_state=42, stratify=y)\n",
    "\n",
    "#Scale the data\n",
    "ss = StandardScaler()\n",
    "ss.fit(X_train)\n",
    "X_train = pd.DataFrame(ss.transform(X_train), columns=X_train.columns)\n",
    "X_test = pd.DataFrame(ss.transform(X_test), columns=X_test.columns)"
   ]
  },
  {
   "cell_type": "code",
   "execution_count": null,
   "metadata": {},
   "outputs": [],
   "source": [
    "log_param_grid = {\n",
    "    \"max_iter\": [10, 50, 100],\n",
    "    \"penalty\": ['l2'],\n",
    "    \"class_weight\": ['balanced'],\n",
    "    \"solver\": ['lbfgs', 'saga']\n",
    "}\n",
    "\n",
    "\n",
    "log_grid = LogisticRegression()\n",
    "log_gridsearch = GridSearchCV(log_grid, log_param_grid, cv=3, return_train_score=True, n_jobs=-1, verbose=-1)\n",
    "\n",
    "log_gridsearch.fit(X_train, y_train)"
   ]
  },
  {
   "cell_type": "code",
   "execution_count": null,
   "metadata": {},
   "outputs": [],
   "source": [
    "print(\"Testing Accuracy: {:.4}%\".format(log_gridsearch.best_score_ * 100))\n",
    "print(\"\")\n",
    "print(\"Optimal Parameters: {}\".format(log_gridsearch.best_params_))\n",
    "\n",
    "# Actual model object fit with those best parameters\n",
    "# Shows default parameters that we did not specify\n",
    "print(\"Best Model: {}\".format(log_gridsearch.best_estimator_))"
   ]
  },
  {
   "cell_type": "code",
   "execution_count": null,
   "metadata": {},
   "outputs": [],
   "source": [
    "log_gridsearch.score(X_test, y_test)"
   ]
  },
  {
   "cell_type": "markdown",
   "metadata": {},
   "source": [
    "# Ensamble methods to determine feature importance"
   ]
  },
  {
   "cell_type": "code",
   "execution_count": null,
   "metadata": {},
   "outputs": [],
   "source": [
    "# Create matrix of features\n",
    "X = df.drop('class', axis = 1) # grabs everything else but 'class'\n",
    "y = df['class'] # y is the column we're trying to predict"
   ]
  },
  {
   "cell_type": "code",
   "execution_count": null,
   "metadata": {},
   "outputs": [],
   "source": [
    "# random forest\n",
    "rf = RandomForestClassifier(bootstrap=True, class_weight=None, criterion='gini',\n",
    "                       max_depth=None, max_features=None, max_leaf_nodes=None,\n",
    "                       min_impurity_decrease=0.0, min_impurity_split=None,\n",
    "                       min_samples_leaf=1, min_samples_split=2,\n",
    "                       min_weight_fraction_leaf=0.0, n_estimators=10,\n",
    "                       n_jobs=None, oob_score=False, random_state=42, verbose=0,\n",
    "                       warm_start=False)\n",
    "rf.fit(X_train, y_train)\n",
    "rf.score(X_test, y_test)\n",
    "\n",
    "\n",
    "#Now with cross validation search\n",
    "val = cross_val_score(RandomForestClassifier(random_state=42),X_train,y_train,cv=5)\n",
    "val.mean()"
   ]
  },
  {
   "cell_type": "code",
   "execution_count": null,
   "metadata": {},
   "outputs": [],
   "source": [
    "#use the fitted model to predict on the test data\n",
    "rfc_preds = rfc.predict(X_test)\n",
    "\n",
    "rfc_f1 = metrics.f1_score(y_test, rfc_preds)\n",
    "rfc_acc = metrics.accuracy_score(y_test, rfc_preds)\n",
    "\n",
    "# checking accuracy on the test data\n",
    "print('Test F1 score: ', rfc_f1)\n",
    "print('Test Accuracy score: ', rfc_acc)"
   ]
  },
  {
   "cell_type": "code",
   "execution_count": null,
   "metadata": {},
   "outputs": [],
   "source": [
    "rf.feature_importances_"
   ]
  },
  {
   "cell_type": "code",
   "execution_count": null,
   "metadata": {},
   "outputs": [],
   "source": [
    "# decision tree\n",
    "dtree = DecisionTreeClassifier(class_weight='balanced', criterion='entropy',\n",
    "                       max_depth=None, max_features=4, max_leaf_nodes=None,\n",
    "                       min_impurity_decrease=0.0, min_impurity_split=None,\n",
    "                       min_samples_leaf=1, min_samples_split=2,\n",
    "                       min_weight_fraction_leaf=0.0, presort=False,\n",
    "                       random_state=27, splitter='best')\n",
    "\n",
    "print(dtree.fit(X_train, y_train))\n",
    "\n",
    "dtree.score(X_test, y_test)\n",
    "\n",
    "\n",
    "#Now with cross validation search\n",
    "val = cross_val_score(DecisionTreeClassifier(random_state=42),X_train,y_train,cv=5)\n",
    "val.mean()"
   ]
  },
  {
   "cell_type": "code",
   "execution_count": null,
   "metadata": {},
   "outputs": [],
   "source": [
    "#use the fitted model to predict on the test data\n",
    "dtree_preds = dtree.predict(X_test)\n",
    "\n",
    "dtree_f1 = metrics.f1_score(y_test, dtree_preds)\n",
    "dtree_acc = metrics.accuracy_score(y_test, dtree_preds)\n",
    "\n",
    "# checking accuracy on the test data\n",
    "print('Test F1 score: ', dtree_f1)\n",
    "print('Test Accuracy score: ', dtree_acc)"
   ]
  },
  {
   "cell_type": "code",
   "execution_count": null,
   "metadata": {},
   "outputs": [],
   "source": [
    "# how did our tree do?\n",
    "df['class'].value_counts()[1]/df['class'].value_counts().sum()"
   ]
  },
  {
   "cell_type": "code",
   "execution_count": null,
   "metadata": {},
   "outputs": [],
   "source": [
    "# Instantiate and fit a DecisionTreeClassifier\n",
    "tree_clf = DecisionTreeClassifier(criterion='gini', max_depth=5)\n",
    "tree_clf.fit(data_train, target_train)\n",
    "\n",
    "# Test set predictions\n",
    "pred = tree_clf.predict(data_test)\n",
    "\n",
    "# Confusion matrix and classification report\n",
    "print(confusion_matrix(target_test, pred))\n",
    "print(classification_report(target_test, pred))\n",
    "print(\"Testing Accuracy for Decision Tree Classifier: {:.4}%\".format(accuracy_score(target_test, pred) * 100))"
   ]
  },
  {
   "cell_type": "code",
   "execution_count": null,
   "metadata": {},
   "outputs": [],
   "source": [
    "dtree.feature_importances_"
   ]
  },
  {
   "cell_type": "code",
   "execution_count": null,
   "metadata": {},
   "outputs": [],
   "source": [
    "# logistic regression\n",
    "X_train, X_test, y_train, y_test = train_test_split(df, target, test_size = 0.25, random_state = 21)\n",
    "\n",
    "log = LogisticRegression(C=1.0, class_weight='balanced', dual=False,\n",
    "                   fit_intercept=True, intercept_scaling=1, l1_ratio=None,\n",
    "                   max_iter=50, multi_class='warn', n_jobs=None, penalty='l2',\n",
    "                   random_state=None, solver='lbfgs', tol=0.0001, verbose=0,\n",
    "                   warm_start=False)\n",
    "\n",
    "print(log.fit(X_train, y_train))\n",
    "\n",
    "log.score(X_test, y_test)\n",
    "\n",
    "\n",
    "#Now with cross validation search\n",
    "val = cross_val_score(LogisticRegression(random_state=42),X_train,y_train,cv=5)\n",
    "val.mean()"
   ]
  },
  {
   "cell_type": "code",
   "execution_count": null,
   "metadata": {},
   "outputs": [],
   "source": [
    "#use the fitted model to predict on the test data\n",
    "log_preds = log.predict(X_test)\n",
    "df['mushroom_pred_class'] = log_preds\n",
    "\n",
    "log_f1 = metrics.f1_score(y_test, log_preds)\n",
    "log_acc = metrics.accuracy_score(y_test, log_preds)\n",
    "\n",
    "# checking accuracy on the test data\n",
    "print('Test F1 score: ', log_f1)\n",
    "print('Test Accuracy score: ', log_acc)"
   ]
  },
  {
   "cell_type": "code",
   "execution_count": null,
   "metadata": {},
   "outputs": [],
   "source": [
    "list(zip(X.columns, log.coef_[0]))"
   ]
  },
  {
   "cell_type": "code",
   "execution_count": 29,
   "metadata": {},
   "outputs": [],
   "source": [
    "y_train_pred = log.predict(X_train)\n",
    "y_test_pred = log.predict(X_test)\n",
    "print(y_train_pred)\n",
    "print(y_test_pred)"
   ]
  },
  {
   "cell_type": "code",
   "execution_count": 31,
   "metadata": {},
   "outputs": [
    {
     "data": {
      "text/plain": [
       "0.517971442639094"
      ]
     },
     "execution_count": 31,
     "metadata": {},
     "output_type": "execute_result"
    }
   ],
   "source": [
    "df['class'].value_counts()[2]/(df['class'].value_counts()[2] + df['class'].value_counts()[1])"
   ]
  },
  {
   "cell_type": "code",
   "execution_count": 88,
   "metadata": {
    "scrolled": true
   },
   "outputs": [
    {
     "name": "stdout",
     "output_type": "stream",
     "text": [
      "[[ 974    0]\n",
      " [   0 1057]]\n",
      "              precision    recall  f1-score   support\n",
      "\n",
      "           1       1.00      1.00      1.00       974\n",
      "           2       1.00      1.00      1.00      1057\n",
      "\n",
      "    accuracy                           1.00      2031\n",
      "   macro avg       1.00      1.00      1.00      2031\n",
      "weighted avg       1.00      1.00      1.00      2031\n",
      "\n",
      "The accuracy score is 1.0\n"
     ]
    }
   ],
   "source": [
    "from sklearn.metrics import classification_report, confusion_matrix , accuracy_score\n",
    "print(confusion_matrix(y_test,y_test_pred))  \n",
    "print(classification_report(y_test,y_test_pred)) \n",
    "print(\"The accuracy score is\" + \" \"+ str(accuracy_score(y_test, y_test_pred)))"
   ]
  },
  {
   "cell_type": "markdown",
   "metadata": {},
   "source": [
    "# Summary\n",
    "\n",
    "Restaurants are looking for a edible mushrooms with 100% accuracy. A single slip up could lead to an ill customer or even a death. This situation must be avoided. That is why recall and specificity are really important. It is important to have high recall, out of all the positive cases a mushroom forager picked out ALL edible ones. The equation for recall is true positive over true positives and false negatives (which are really positive). The equation for specificity is true negative over true negative and false positive (actually negative). It's important to weed all negative cases out so no customers face adverse side effects. We are not worried about making a type 1 error, predicting a mushroom as poisonous when the mushroom is actually edible. A type II error, predicting a mushroom as edible when it is actually poisonous, would be detrimental to a customer."
   ]
  },
  {
   "cell_type": "markdown",
   "metadata": {},
   "source": [
    "# Conclusions and Insights"
   ]
  }
 ],
 "metadata": {
  "kernelspec": {
   "display_name": "Python 3",
   "language": "python",
   "name": "python3"
  },
  "language_info": {
   "codemirror_mode": {
    "name": "ipython",
    "version": 3
   },
   "file_extension": ".py",
   "mimetype": "text/x-python",
   "name": "python",
   "nbconvert_exporter": "python",
   "pygments_lexer": "ipython3",
   "version": "3.6.9"
  },
  "toc": {
   "base_numbering": 1,
   "nav_menu": {},
   "number_sections": true,
   "sideBar": true,
   "skip_h1_title": false,
   "title_cell": "Table of Contents",
   "title_sidebar": "Contents",
   "toc_cell": false,
   "toc_position": {},
   "toc_section_display": true,
   "toc_window_display": false
  },
  "varInspector": {
   "cols": {
    "lenName": 16,
    "lenType": 16,
    "lenVar": 40
   },
   "kernels_config": {
    "python": {
     "delete_cmd_postfix": "",
     "delete_cmd_prefix": "del ",
     "library": "var_list.py",
     "varRefreshCmd": "print(var_dic_list())"
    },
    "r": {
     "delete_cmd_postfix": ") ",
     "delete_cmd_prefix": "rm(",
     "library": "var_list.r",
     "varRefreshCmd": "cat(var_dic_list()) "
    }
   },
   "types_to_exclude": [
    "module",
    "function",
    "builtin_function_or_method",
    "instance",
    "_Feature"
   ],
   "window_display": false
  }
 },
 "nbformat": 4,
 "nbformat_minor": 4
}
